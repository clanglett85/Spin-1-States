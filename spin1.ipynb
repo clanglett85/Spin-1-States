{
 "cells": [
  {
   "cell_type": "code",
   "execution_count": 1,
   "metadata": {},
   "outputs": [],
   "source": [
    "%matplotlib inline\n",
    "import matplotlib.pyplot as plt\n",
    "import numpy as np\n",
    "import matplotlib as mpl\n",
    "from mpl_toolkits.mplot3d import Axes3D\n",
    "from qutip import *\n",
    "from qutip.piqs import *\n",
    "from matplotlib import cm\n",
    "from qutip.fastsparse import fast_csr_matrix, fast_identity\n",
    "import scipy.sparse as sparse\n",
    "import scipy.linalg as linalg\n"
   ]
  },
  {
   "cell_type": "code",
   "execution_count": 81,
   "metadata": {},
   "outputs": [
    {
     "data": {
      "text/latex": [
       "Quantum object: dims = [[3, 3], [3, 3]], shape = (9, 9), type = oper, isherm = True\\begin{equation*}\\left(\\begin{array}{*{11}c}2.0 & 0.0 & 0.0 & 0.0 & 0.0 & 0.0 & 0.0 & 0.0 & 0.0\\\\0.0 & 1.0 & 0.0 & 0.0 & 0.0 & 0.0 & 0.0 & 0.0 & 0.0\\\\0.0 & 0.0 & 0.0 & 0.0 & 0.0 & 0.0 & 0.0 & 0.0 & 0.0\\\\0.0 & 0.0 & 0.0 & 1.0 & 0.0 & 0.0 & 0.0 & 0.0 & 0.0\\\\0.0 & 0.0 & 0.0 & 0.0 & 0.0 & 0.0 & 0.0 & 0.0 & 0.0\\\\0.0 & 0.0 & 0.0 & 0.0 & 0.0 & -1.0 & 0.0 & 0.0 & 0.0\\\\0.0 & 0.0 & 0.0 & 0.0 & 0.0 & 0.0 & 0.0 & 0.0 & 0.0\\\\0.0 & 0.0 & 0.0 & 0.0 & 0.0 & 0.0 & 0.0 & -1.0 & 0.0\\\\0.0 & 0.0 & 0.0 & 0.0 & 0.0 & 0.0 & 0.0 & 0.0 & -2.0\\\\\\end{array}\\right)\\end{equation*}"
      ],
      "text/plain": [
       "Quantum object: dims = [[3, 3], [3, 3]], shape = (9, 9), type = oper, isherm = True\n",
       "Qobj data =\n",
       "[[ 2.  0.  0.  0.  0.  0.  0.  0.  0.]\n",
       " [ 0.  1.  0.  0.  0.  0.  0.  0.  0.]\n",
       " [ 0.  0.  0.  0.  0.  0.  0.  0.  0.]\n",
       " [ 0.  0.  0.  1.  0.  0.  0.  0.  0.]\n",
       " [ 0.  0.  0.  0.  0.  0.  0.  0.  0.]\n",
       " [ 0.  0.  0.  0.  0. -1.  0.  0.  0.]\n",
       " [ 0.  0.  0.  0.  0.  0.  0.  0.  0.]\n",
       " [ 0.  0.  0.  0.  0.  0.  0. -1.  0.]\n",
       " [ 0.  0.  0.  0.  0.  0.  0.  0. -2.]]"
      ]
     },
     "execution_count": 81,
     "metadata": {},
     "output_type": "execute_result"
    }
   ],
   "source": [
    "# First we define single spin-1 operators, dimension is 3^N\n",
    "N = 2\n",
    "I2 = qeye(3)\n",
    "f_z = []\n",
    "f_p = []\n",
    "f_m = []\n",
    "\n",
    "for jj in range(N):\n",
    "    f_z.append(tensor([ I2 ] * jj + [ jmat(1,\"z\") ] + [ I2 ] * (N-jj-1)))\n",
    "    f_p.append(tensor([ I2 ] * jj + [ jmat(1, \"+\") ] + [ I2 ] * (N-jj-1)))\n",
    "    f_m.append(tensor([ I2 ] * jj + [ jmat(1, \"-\") ] + [ I2 ] * (N-jj-1)))\n",
    "    \n",
    "#Collective spin-1 operators, the dimension goes as 3^N\n",
    "Fz = sum(f_z)\n",
    "Fp = sum(f_p)\n",
    "Fm = sum(f_m)\n",
    "Fz"
   ]
  },
  {
   "cell_type": "code",
   "execution_count": 19,
   "metadata": {},
   "outputs": [],
   "source": [
    "# Construct the Spin-1 algebra\n",
    "\n",
    "def spin_1(N, op=None):\n",
    "    \n",
    "    \"\"\"Create the list [fx, fy, fz] with the spin operators.\n",
    "    The operators are constructed for a collection of N three-level systems\n",
    "    (TLSs). Each element of the list, i.e., fx, is a vector of `qutip.Qobj`\n",
    "    objects (spin matrices), as it cointains the list of the SU(3) Gell Mann\n",
    "    matrices for the N TLSs. Each TLS operator fx[i], with i = 0, ..., (N-1),\n",
    "    is placed in a :math:`3^N`-dimensional Hilbert space.\n",
    "    Notes\n",
    "    -----\n",
    "    fx[i] is :math:`\\\\frac{\\\\sigma_x}{2}` in the composite Hilbert space.\n",
    "    Parameters\n",
    "    ----------\n",
    "    N: int\n",
    "        The number of spin 1 atoms.\n",
    "    Returns\n",
    "    -------\n",
    "    spin_operators: list or :class: qutip.Qobj\n",
    "        A list of `qutip.Qobj` operators - [fx, fy, fz] or the\n",
    "        requested operator.\n",
    "    \"\"\"\n",
    "    #Define N spin-1 atoms in uncoupled basis\n",
    "    N = int(N)\n",
    "    fx = [0 for i in range(N)]\n",
    "    fy = [0 for i in range(N)]\n",
    "    fz = [0 for i in range(N)]\n",
    "    fp = [0 for i in range(N)]\n",
    "    fm = [0 for i in range(N)]\n",
    "    \n",
    "    fx[0] = jmat(1, \"x\")\n",
    "    fy[0] = jmat(1, \"y\")\n",
    "    fz[0] = jmat(1, \"z\")\n",
    "    fp[0] = jmat(1, \"+\")\n",
    "    fm[0] = jmat(1, \"-\")\n",
    "    \n",
    "    #Place operators on the N-atom Hilbert-Space\n",
    "    \n",
    "    for j in range(N-1):\n",
    "        fx[0] = tensor(fx[0], identity(3))\n",
    "        fy[0] = tensor(fy[0], identity(3))\n",
    "        fz[0] = tensor(fz[0], identity(3))\n",
    "        fp[0] = tensor(fp[0], identity(3))\n",
    "        fm[0] = tensor(fm[0], identity(3))\n",
    "    \n",
    "    #Create the operators\n",
    "    a = [i for i in range(N)]\n",
    "    b = [[a[i - i2] for i in range(N)] for i2 in range(N)]\n",
    "    \n",
    "    for i in range(1,N):\n",
    "        fx[i] = fx[0].permute(b[i])\n",
    "        fy[i] = fy[0].permute(b[i])\n",
    "        fz[i] = fz[0].permute(b[i])\n",
    "        fp[i] = fp[0].permute(b[i])\n",
    "        fm[i] = fm[0].permute(b[i])\n",
    "    \n",
    "    spin_1 = [fx, fy, fz]\n",
    "    \n",
    "    if not op:\n",
    "        return spin_1\n",
    "    elif op == 'x':\n",
    "        return fx\n",
    "    elif op == 'y':\n",
    "        return fy\n",
    "    elif op == 'z':\n",
    "        return fz\n",
    "    elif op == '+':\n",
    "        return fp\n",
    "    elif op == '-':\n",
    "        return fm\n",
    "    else:\n",
    "        raise TypeError('Invalid type')\n",
    "    "
   ]
  },
  {
   "cell_type": "code",
   "execution_count": 116,
   "metadata": {},
   "outputs": [],
   "source": [
    "#Construct the Collective-Spin operators\n",
    "\n",
    "def spin1(N, op=None):\n",
    "    \"\"\"Construct the the collective spin algebra in the uncoupled basis.\n",
    "    Fx, Fy, Fz, Fp, Fm are constructed in the uncoupled basis of the\n",
    "    spin-1 system (TLS). Each collective operator is placed in a\n",
    "    Hilbert space of dimension 3^N.\n",
    "    Parameters\n",
    "    ----------\n",
    "    N: int\n",
    "        The number of spin-1 systems.\n",
    "    op: str\n",
    "        The operator to return 'x','y','z','+','-'.\n",
    "        If no operator given, then output is the list of operators\n",
    "        for ['x','y','z',].\n",
    "    Returns\n",
    "    -------\n",
    "    collective_operators: list or :class: qutip.Qobj\n",
    "        A list of `qutip.Qobj` representing all the operators in\n",
    "        uncoupled\" basis or a single operator requested.\n",
    "    \"\"\"\n",
    "    \n",
    "    N = int(N)\n",
    "    \n",
    "    fx, fy, fz = spin_1(N)\n",
    "    fp, fm = spin_1(N, \"+\"), spin_1(N, \"-\")\n",
    "    \n",
    "    \n",
    "    Fx = sum(fx)\n",
    "    Fy = sum(fy)\n",
    "    Fz = sum(fz)\n",
    "    Fp = sum(fp)\n",
    "    Fm = sum(fm)\n",
    "    \n",
    "    collective_operators = [Fx, Fy, Fz, Fp, Fm]\n",
    "    \n",
    "    if not op:\n",
    "        return collective_operators\n",
    "    elif op == 'x':\n",
    "        return Fx\n",
    "    elif op == 'y':\n",
    "        return Fy\n",
    "    elif op == 'z':\n",
    "        return Fz\n",
    "    elif op == '+':\n",
    "        return Fp\n",
    "    elif op == '-':\n",
    "        return Fm\n",
    "    else:\n",
    "        raise TypeError('Invalid type')\n",
    "        \n",
    "    return Fx, Fy, Fz, Fp, Fm"
   ]
  },
  {
   "cell_type": "code",
   "execution_count": 122,
   "metadata": {},
   "outputs": [
    {
     "data": {
      "text/latex": [
       "Quantum object: dims = [[3, 3], [3, 3]], shape = (9, 9), type = oper, isherm = True\\begin{equation*}\\left(\\begin{array}{*{11}c}0.0 & 0.707 & 0.0 & 0.707 & 0.0 & 0.0 & 0.0 & 0.0 & 0.0\\\\0.707 & 0.0 & 0.707 & 0.0 & 0.707 & 0.0 & 0.0 & 0.0 & 0.0\\\\0.0 & 0.707 & 0.0 & 0.0 & 0.0 & 0.707 & 0.0 & 0.0 & 0.0\\\\0.707 & 0.0 & 0.0 & 0.0 & 0.707 & 0.0 & 0.707 & 0.0 & 0.0\\\\0.0 & 0.707 & 0.0 & 0.707 & 0.0 & 0.707 & 0.0 & 0.707 & 0.0\\\\0.0 & 0.0 & 0.707 & 0.0 & 0.707 & 0.0 & 0.0 & 0.0 & 0.707\\\\0.0 & 0.0 & 0.0 & 0.707 & 0.0 & 0.0 & 0.0 & 0.707 & 0.0\\\\0.0 & 0.0 & 0.0 & 0.0 & 0.707 & 0.0 & 0.707 & 0.0 & 0.707\\\\0.0 & 0.0 & 0.0 & 0.0 & 0.0 & 0.707 & 0.0 & 0.707 & 0.0\\\\\\end{array}\\right)\\end{equation*}"
      ],
      "text/plain": [
       "Quantum object: dims = [[3, 3], [3, 3]], shape = (9, 9), type = oper, isherm = True\n",
       "Qobj data =\n",
       "[[0.         0.70710678 0.         0.70710678 0.         0.\n",
       "  0.         0.         0.        ]\n",
       " [0.70710678 0.         0.70710678 0.         0.70710678 0.\n",
       "  0.         0.         0.        ]\n",
       " [0.         0.70710678 0.         0.         0.         0.70710678\n",
       "  0.         0.         0.        ]\n",
       " [0.70710678 0.         0.         0.         0.70710678 0.\n",
       "  0.70710678 0.         0.        ]\n",
       " [0.         0.70710678 0.         0.70710678 0.         0.70710678\n",
       "  0.         0.70710678 0.        ]\n",
       " [0.         0.         0.70710678 0.         0.70710678 0.\n",
       "  0.         0.         0.70710678]\n",
       " [0.         0.         0.         0.70710678 0.         0.\n",
       "  0.         0.70710678 0.        ]\n",
       " [0.         0.         0.         0.         0.70710678 0.\n",
       "  0.70710678 0.         0.70710678]\n",
       " [0.         0.         0.         0.         0.         0.70710678\n",
       "  0.         0.70710678 0.        ]]"
      ]
     },
     "execution_count": 122,
     "metadata": {},
     "output_type": "execute_result"
    }
   ],
   "source": [
    "spin1(2,\"x\")"
   ]
  },
  {
   "cell_type": "code",
   "execution_count": 93,
   "metadata": {},
   "outputs": [
    {
     "data": {
      "text/latex": [
       "Quantum object: dims = [[3], [1]], shape = (3, 1), type = ket\\begin{equation*}\\left(\\begin{array}{*{11}c}0.0\\\\0.0\\\\1.0\\\\\\end{array}\\right)\\end{equation*}"
      ],
      "text/plain": [
       "Quantum object: dims = [[3], [1]], shape = (3, 1), type = ket\n",
       "Qobj data =\n",
       "[[0.]\n",
       " [0.]\n",
       " [1.]]"
      ]
     },
     "execution_count": 93,
     "metadata": {},
     "output_type": "execute_result"
    }
   ],
   "source": [
    "basis(3,2)"
   ]
  },
  {
   "cell_type": "code",
   "execution_count": 113,
   "metadata": {},
   "outputs": [
    {
     "data": {
      "text/plain": [
       "(Quantum object: dims = [[3], [3]], shape = (3, 3), type = oper, isherm = True\n",
       " Qobj data =\n",
       " [[0.         0.70710678 0.        ]\n",
       "  [0.70710678 0.         0.70710678]\n",
       "  [0.         0.70710678 0.        ]],\n",
       " Quantum object: dims = [[3], [3]], shape = (3, 3), type = oper, isherm = True\n",
       " Qobj data =\n",
       " [[0.+0.j         0.-0.70710678j 0.+0.j        ]\n",
       "  [0.+0.70710678j 0.+0.j         0.-0.70710678j]\n",
       "  [0.+0.j         0.+0.70710678j 0.+0.j        ]],\n",
       " Quantum object: dims = [[3], [3]], shape = (3, 3), type = oper, isherm = True\n",
       " Qobj data =\n",
       " [[ 1.  0.  0.]\n",
       "  [ 0.  0.  0.]\n",
       "  [ 0.  0. -1.]])"
      ]
     },
     "execution_count": 113,
     "metadata": {},
     "output_type": "execute_result"
    }
   ],
   "source": [
    "jmat(1)"
   ]
  },
  {
   "cell_type": "code",
   "execution_count": null,
   "metadata": {},
   "outputs": [],
   "source": []
  }
 ],
 "metadata": {
  "kernelspec": {
   "display_name": "Python 3",
   "language": "python",
   "name": "python3"
  },
  "language_info": {
   "codemirror_mode": {
    "name": "ipython",
    "version": 3
   },
   "file_extension": ".py",
   "mimetype": "text/x-python",
   "name": "python",
   "nbconvert_exporter": "python",
   "pygments_lexer": "ipython3",
   "version": "3.7.3"
  }
 },
 "nbformat": 4,
 "nbformat_minor": 4
}
